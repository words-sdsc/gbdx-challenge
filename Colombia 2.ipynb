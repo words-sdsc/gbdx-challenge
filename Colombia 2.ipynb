{
 "cells": [
  {
   "cell_type": "code",
   "execution_count": 3,
   "metadata": {},
   "outputs": [],
   "source": [
    "from gbdxtools import Interface\n",
    "from gbdxtools import CatalogImage\n",
    "from gbdxtools.task import env\n",
    "import json\n",
    "\n",
    "gbdx = Interface()"
   ]
  },
  {
   "cell_type": "code",
   "execution_count": 4,
   "metadata": {},
   "outputs": [
    {
     "name": "stdout",
     "output_type": "stream",
     "text": [
      "(-77.67405014, 0.6903576118900467, -77.51874176773985, 1.02782883)\n"
     ]
    }
   ],
   "source": [
    "catalog_id = env.inputs.get('catalog_id', '10500100012D5600')\n",
    "image = CatalogImage(catalog_id)\n",
    "imgBounds = image.bounds\n",
    "print(imgBounds)"
   ]
  },
  {
   "cell_type": "code",
   "execution_count": 5,
   "metadata": {},
   "outputs": [],
   "source": [
    "metadata = image.ipe.metadata['image']\n",
    "#print(json.dumps(metadata, indent=4))"
   ]
  },
  {
   "cell_type": "code",
   "execution_count": 5,
   "metadata": {},
   "outputs": [],
   "source": [
    "data_url = 's3://receiving-dgcs-tdgplatform-com/057792790010_01_003'"
   ]
  },
  {
   "cell_type": "code",
   "execution_count": 6,
   "metadata": {},
   "outputs": [],
   "source": [
    "ao_task = gbdx.Task('AOP_Strip_Processor',\n",
    "                    data=data_url,\n",
    "                    bands='MS',\n",
    "                    dra_mode='BaseLayerMatch')\n",
    "ao_task.impersonation_allowed = True"
   ]
  },
  {
   "cell_type": "code",
   "execution_count": 8,
   "metadata": {},
   "outputs": [
    {
     "name": "stdout",
     "output_type": "stream",
     "text": [
      "('image bounds', (-77.67405014, 0.6903576118900467, -77.51874176773985, 1.02782883))\n",
      "('chose bounds', [-77.669545, 0.809357, -77.515784, 0.959268])\n",
      "('fixed bounds', [-77.669545, 0.809357, -77.51874176773985, 0.959268])\n"
     ]
    }
   ],
   "source": [
    "aoiBounds = [-77.669545, 0.809357, -77.515784, 0.959268]\n",
    "\n",
    "print('image bounds', imgBounds)\n",
    "print('chose bounds', aoiBounds)\n",
    "\n",
    "bounds = [max(imgBounds[0], aoiBounds[0]), max(imgBounds[1], aoiBounds[1]),\n",
    "                min(imgBounds[2], aoiBounds[2]), min(imgBounds[3], aoiBounds[3])]\n",
    "\n",
    "print('fixed bounds', bounds)"
   ]
  },
  {
   "cell_type": "code",
   "execution_count": 9,
   "metadata": {},
   "outputs": [],
   "source": [
    "# problem: ship value may not be set\n",
    "clip_task = gbdx.Task('gdalcrop',                      \n",
    "                     #image='s3://gbd-customer-data/f9fbd84c-9463-4360-afeb-040cd9ea954b/lt_ao_bs_match1/',\n",
    "                     image=ao_task.outputs.data.value,\n",
    "                     crop='{} {} {} {}'.format(bounds[0], bounds[1], bounds[2], bounds[3]),\n",
    "                     ship=\"false\")"
   ]
  },
  {
   "cell_type": "code",
   "execution_count": 10,
   "metadata": {},
   "outputs": [],
   "source": [
    "tile_task = gbdx.Task('splitter-gbdx:0.0.5',\n",
    "                     data_in=clip_task.outputs.cropped.value)"
   ]
  },
  {
   "cell_type": "code",
   "execution_count": 11,
   "metadata": {},
   "outputs": [],
   "source": [
    "fe_task = gbdx.Task('fe-gbdx:0.0.9',\n",
    "                   data_in=tile_task.outputs.data_out.value)"
   ]
  },
  {
   "cell_type": "code",
   "execution_count": 13,
   "metadata": {},
   "outputs": [],
   "source": [
    "clustervis_task = gbdx.Task('clustervis-gbdx:0.0.14',\n",
    "                           data_in=tile_task.outputs.data_out.value,\n",
    "                           features_in=fe_task.outputs.data_out.value,\n",
    "                           #data_in='s3://gbd-customer-data/f9fbd84c-9463-4360-afeb-040cd9ea954b/tiles2',\n",
    "                           #features_in='s3://gbd-customer-data/f9fbd84c-9463-4360-afeb-040cd9ea954b/fe-out2',\n",
    "                           train='false')"
   ]
  },
  {
   "cell_type": "code",
   "execution_count": 14,
   "metadata": {},
   "outputs": [],
   "source": [
    "#tasks = [ao_task]\n",
    "#tasks2 = [clip_task]\n",
    "#tasks = [ao_task, clip_task]\n",
    "#tasks = [clip_task, tile_task]\n",
    "#tasks = [fe_task]\n",
    "#tasks = [clustervis_task]\n",
    "#tasks = [clip_task, tile_task, fe_task, clustervis_task]\n",
    "tasks = [ao_task, clip_task, tile_task, fe_task, clustervis_task]\n",
    "workflow = gbdx.Workflow(tasks)"
   ]
  },
  {
   "cell_type": "code",
   "execution_count": 15,
   "metadata": {},
   "outputs": [],
   "source": [
    "workflow.savedata(ao_task.outputs.data, location='colombia-2-acomp')\n",
    "workflow.savedata(clip_task.outputs.cropped, location='colombia-2-clip')\n",
    "workflow.savedata(tile_task.outputs.data_out, location='colombia-2-tiles')\n",
    "workflow.savedata(fe_task.outputs.data_out, location='colombia-2-fe')\n",
    "workflow.savedata(clustervis_task.outputs.data_out, location='colombia-2-out')"
   ]
  },
  {
   "cell_type": "code",
   "execution_count": 16,
   "metadata": {},
   "outputs": [
    {
     "data": {
      "text/plain": [
       "u'4837083965250102695'"
      ]
     },
     "execution_count": 16,
     "metadata": {},
     "output_type": "execute_result"
    }
   ],
   "source": [
    "workflow.execute()"
   ]
  },
  {
   "cell_type": "code",
   "execution_count": 19,
   "metadata": {},
   "outputs": [
    {
     "name": "stdout",
     "output_type": "stream",
     "text": [
      "4837083965250102695\n",
      "{u'state': u'running', u'event': u'started'}\n",
      "    AOP_Strip_Processor_c8e3821d submitted\n",
      "    gdalcrop_9ecd10e8 submitted\n",
      "    splitter-gbdx_0.0.5_a00b6d7c submitted\n",
      "    fe-gbdx_0.0.9_f2283492 submitted\n",
      "    clustervis-gbdx_0.0.14_aa039911 submitted\n",
      "    AOP_Strip_Processor_c8e3821d scheduled\n",
      "    AOP_Strip_Processor_c8e3821d started\n",
      "[\n",
      "    {\n",
      "        \"stdout\": \"Unable to retrieve stdout.  Unable to locate item with workflow ID '4837083965250102695' and task ID '4837083965218726873'\", \n",
      "        \"id\": \"4837083965218726873\", \n",
      "        \"name\": \"AOP_Strip_Processor_c8e3821d\", \n",
      "        \"taskType\": \"AOP_Strip_Processor:0.0.4\"\n",
      "    }, \n",
      "    {\n",
      "        \"stdout\": \"Unable to retrieve stdout.  Unable to locate item with workflow ID '4837083965250102695' and task ID '4837083965234695450'\", \n",
      "        \"id\": \"4837083965234695450\", \n",
      "        \"name\": \"clustervis-gbdx_0.0.14_aa039911\", \n",
      "        \"taskType\": \"clustervis-gbdx:0.0.14\"\n",
      "    }, \n",
      "    {\n",
      "        \"stdout\": \"Unable to retrieve stdout.  Unable to locate item with workflow ID '4837083965250102695' and task ID '4837083965234936811'\", \n",
      "        \"id\": \"4837083965234936811\", \n",
      "        \"name\": \"fe-gbdx_0.0.9_f2283492\", \n",
      "        \"taskType\": \"fe-gbdx:0.0.9\"\n",
      "    }, \n",
      "    {\n",
      "        \"stdout\": \"Unable to retrieve stdout.  Unable to locate item with workflow ID '4837083965250102695' and task ID '4837083965233133161'\", \n",
      "        \"id\": \"4837083965233133161\", \n",
      "        \"name\": \"splitter-gbdx_0.0.5_a00b6d7c\", \n",
      "        \"taskType\": \"splitter-gbdx:0.0.5\"\n",
      "    }, \n",
      "    {\n",
      "        \"stdout\": \"Unable to retrieve stdout.  Unable to locate item with workflow ID '4837083965250102695' and task ID '4837083965228264677'\", \n",
      "        \"id\": \"4837083965228264677\", \n",
      "        \"name\": \"gdalcrop_9ecd10e8\", \n",
      "        \"taskType\": \"gdalcrop:0.5.0\"\n",
      "    }\n",
      "]\n",
      "[\n",
      "    {\n",
      "        \"stderr\": \"Unable to retrieve stderr.  Unable to locate item with workflow ID '4837083965250102695' and task ID '4837083965218726873'\", \n",
      "        \"id\": \"4837083965218726873\", \n",
      "        \"name\": \"AOP_Strip_Processor_c8e3821d\", \n",
      "        \"taskType\": \"AOP_Strip_Processor:0.0.4\"\n",
      "    }, \n",
      "    {\n",
      "        \"stderr\": \"Unable to retrieve stderr.  Unable to locate item with workflow ID '4837083965250102695' and task ID '4837083965234695450'\", \n",
      "        \"id\": \"4837083965234695450\", \n",
      "        \"name\": \"clustervis-gbdx_0.0.14_aa039911\", \n",
      "        \"taskType\": \"clustervis-gbdx:0.0.14\"\n",
      "    }, \n",
      "    {\n",
      "        \"stderr\": \"Unable to retrieve stderr.  Unable to locate item with workflow ID '4837083965250102695' and task ID '4837083965234936811'\", \n",
      "        \"id\": \"4837083965234936811\", \n",
      "        \"name\": \"fe-gbdx_0.0.9_f2283492\", \n",
      "        \"taskType\": \"fe-gbdx:0.0.9\"\n",
      "    }, \n",
      "    {\n",
      "        \"stderr\": \"Unable to retrieve stderr.  Unable to locate item with workflow ID '4837083965250102695' and task ID '4837083965233133161'\", \n",
      "        \"id\": \"4837083965233133161\", \n",
      "        \"name\": \"splitter-gbdx_0.0.5_a00b6d7c\", \n",
      "        \"taskType\": \"splitter-gbdx:0.0.5\"\n",
      "    }, \n",
      "    {\n",
      "        \"stderr\": \"Unable to retrieve stderr.  Unable to locate item with workflow ID '4837083965250102695' and task ID '4837083965228264677'\", \n",
      "        \"id\": \"4837083965228264677\", \n",
      "        \"name\": \"gdalcrop_9ecd10e8\", \n",
      "        \"taskType\": \"gdalcrop:0.5.0\"\n",
      "    }\n",
      "]\n"
     ]
    }
   ],
   "source": [
    "print workflow.id\n",
    "print workflow.status\n",
    "#print(json.dumps(workflow.events[len(workflow.events)-1], indent=4))\n",
    "#print(json.dumps(workflow.events, indent=4))\n",
    "for e in workflow.events:\n",
    "    print(\"    {} {}\".format(e['task'], e['event']))\n",
    "    #print(e)\n",
    "print(json.dumps(workflow.stdout, indent=4))\n",
    "print(json.dumps(workflow.stderr, indent=4))"
   ]
  },
  {
   "cell_type": "code",
   "execution_count": null,
   "metadata": {},
   "outputs": [],
   "source": [
    "workflow.cancel()"
   ]
  }
 ],
 "metadata": {
  "kernelspec": {
   "display_name": "Python 2",
   "language": "python",
   "name": "python2"
  },
  "language_info": {
   "codemirror_mode": {
    "name": "ipython",
    "version": 2
   },
   "file_extension": ".py",
   "mimetype": "text/x-python",
   "name": "python",
   "nbconvert_exporter": "python",
   "pygments_lexer": "ipython2",
   "version": "2.7.14"
  }
 },
 "nbformat": 4,
 "nbformat_minor": 2
}
