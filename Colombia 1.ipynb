{
 "cells": [
  {
   "cell_type": "code",
   "execution_count": 1,
   "metadata": {},
   "outputs": [],
   "source": [
    "from gbdxtools import Interface\n",
    "from gbdxtools import CatalogImage\n",
    "from gbdxtools.task import env\n",
    "import json\n",
    "\n",
    "gbdx = Interface()"
   ]
  },
  {
   "cell_type": "code",
   "execution_count": 2,
   "metadata": {},
   "outputs": [
    {
     "name": "stdout",
     "output_type": "stream",
     "text": [
      "(-77.74697382, 0.9785228165217394, -77.58496077652174, 2.04953586)\n"
     ]
    }
   ],
   "source": [
    "catalog_id = env.inputs.get('catalog_id', '104001002884C200')\n",
    "image = CatalogImage(catalog_id)\n",
    "imgBounds = image.bounds\n",
    "print(imgBounds)"
   ]
  },
  {
   "cell_type": "code",
   "execution_count": 3,
   "metadata": {},
   "outputs": [],
   "source": [
    "metadata = image.ipe.metadata['image']\n",
    "#print(json.dumps(metadata, indent=4))"
   ]
  },
  {
   "cell_type": "code",
   "execution_count": 4,
   "metadata": {},
   "outputs": [],
   "source": [
    "data_url = 's3://receiving-dgcs-tdgplatform-com/057792784010_01_003'"
   ]
  },
  {
   "cell_type": "code",
   "execution_count": 5,
   "metadata": {},
   "outputs": [],
   "source": [
    "ao_task = gbdx.Task('AOP_Strip_Processor',\n",
    "                    data=data_url,\n",
    "                    bands='MS',\n",
    "                    dra_mode='BaseLayerMatch')\n",
    "ao_task.impersonation_allowed = True"
   ]
  },
  {
   "cell_type": "code",
   "execution_count": null,
   "metadata": {},
   "outputs": [],
   "source": [
    "aoiBounds = [-77.740099, 0.980800, -77.582966, 1.291200]\n",
    "\n",
    "print('image bounds', imgBounds)\n",
    "print('chose bounds', aoiBounds)\n",
    "\n",
    "bounds = [max(imgBounds[0], aoiBounds[0]), max(imgBounds[1], aoiBounds[1]),\n",
    "                min(imgBounds[2], aoiBounds[2]), min(imgBounds[3], aoiBounds[3])]\n",
    "\n",
    "print('fixed bounds', bounds)"
   ]
  },
  {
   "cell_type": "code",
   "execution_count": null,
   "metadata": {},
   "outputs": [],
   "source": [
    "# problem: ship value may not be set\n",
    "clip_task = gbdx.Task('gdalcrop',                      \n",
    "                     #image='s3://gbd-customer-data/f9fbd84c-9463-4360-afeb-040cd9ea954b/lt_ao_bs_match1/',\n",
    "                     image=ao_task.outputs.data.value,\n",
    "                     crop='{} {} {} {}'.format(bounds[0], bounds[1], bounds[2], bounds[3]),\n",
    "                     ship=\"false\")"
   ]
  },
  {
   "cell_type": "code",
   "execution_count": null,
   "metadata": {},
   "outputs": [],
   "source": [
    "tile_task = gbdx.Task('splitter-gbdx:0.0.5',\n",
    "                     data_in=clip_task.outputs.cropped.value)"
   ]
  },
  {
   "cell_type": "code",
   "execution_count": null,
   "metadata": {},
   "outputs": [],
   "source": [
    "fe_task = gbdx.Task('fe-gbdx:0.0.9',\n",
    "                   data_in=tile_task.outputs.data_out.value)"
   ]
  },
  {
   "cell_type": "code",
   "execution_count": null,
   "metadata": {},
   "outputs": [],
   "source": [
    "clustervis_task = gbdx.Task('clustervis-gbdx:0.0.13',\n",
    "                           data_in=tile_task.outputs.data_out.value,\n",
    "                           features_in=fe_task.outputs.data_out.value,\n",
    "                           #data_in='s3://gbd-customer-data/f9fbd84c-9463-4360-afeb-040cd9ea954b/tiles2',\n",
    "                           #features_in='s3://gbd-customer-data/f9fbd84c-9463-4360-afeb-040cd9ea954b/fe-out2',\n",
    "                           train='true')"
   ]
  },
  {
   "cell_type": "code",
   "execution_count": null,
   "metadata": {},
   "outputs": [],
   "source": [
    "#tasks = [ao_task]\n",
    "#tasks2 = [clip_task]\n",
    "#tasks = [ao_task, clip_task]\n",
    "#tasks = [clip_task, tile_task]\n",
    "#tasks = [fe_task]\n",
    "#tasks = [clustervis_task]\n",
    "#tasks = [clip_task, tile_task, fe_task, clustervis_task]\n",
    "tasks = [ao_task, clip_task, tile_task, fe_task, clustervis_task]\n",
    "workflow = gbdx.Workflow(tasks)"
   ]
  },
  {
   "cell_type": "code",
   "execution_count": null,
   "metadata": {},
   "outputs": [],
   "source": [
    "workflow.savedata(ao_task.outputs.data, location='colombia-1-acomp')\n",
    "workflow.savedata(clip_task.outputs.cropped, location='colombia-1-clip')\n",
    "workflow.savedata(tile_task.outputs.data_out, location='colombia-1-tiles')\n",
    "workflow.savedata(fe_task.outputs.data_out, location='colombia-1-fe')\n",
    "workflow.savedata(clustervis_task.outputs.data_out, location='colombia-1-out2')"
   ]
  },
  {
   "cell_type": "code",
   "execution_count": null,
   "metadata": {},
   "outputs": [],
   "source": [
    "workflow.execute()"
   ]
  },
  {
   "cell_type": "code",
   "execution_count": null,
   "metadata": {},
   "outputs": [],
   "source": [
    "print workflow.id\n",
    "print workflow.status\n",
    "#print(json.dumps(workflow.events[len(workflow.events)-1], indent=4))\n",
    "#print(json.dumps(workflow.events, indent=4))\n",
    "for e in workflow.events:\n",
    "    print(\"    {} {}\".format(e['task'], e['event']))\n",
    "    #print(e)\n",
    "print(json.dumps(workflow.stdout, indent=4))\n",
    "print(json.dumps(workflow.stderr, indent=4))"
   ]
  },
  {
   "cell_type": "code",
   "execution_count": null,
   "metadata": {},
   "outputs": [],
   "source": [
    "workflow.cancel()"
   ]
  }
 ],
 "metadata": {
  "kernelspec": {
   "display_name": "Python 2",
   "language": "python",
   "name": "python2"
  },
  "language_info": {
   "codemirror_mode": {
    "name": "ipython",
    "version": 2
   },
   "file_extension": ".py",
   "mimetype": "text/x-python",
   "name": "python",
   "nbconvert_exporter": "python",
   "pygments_lexer": "ipython2",
   "version": "2.7.14"
  }
 },
 "nbformat": 4,
 "nbformat_minor": 2
}
